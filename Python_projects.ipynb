{
  "nbformat": 4,
  "nbformat_minor": 0,
  "metadata": {
    "colab": {
      "provenance": [],
      "authorship_tag": "ABX9TyP2esokCPI4TE0ktpX6g+S6",
      "include_colab_link": true
    },
    "kernelspec": {
      "name": "python3",
      "display_name": "Python 3"
    },
    "language_info": {
      "name": "python"
    }
  },
  "cells": [
    {
      "cell_type": "markdown",
      "metadata": {
        "id": "view-in-github",
        "colab_type": "text"
      },
      "source": [
        "<a href=\"https://colab.research.google.com/github/Maithri-14/MyResume/blob/main/Python_projects.ipynb\" target=\"_parent\"><img src=\"https://colab.research.google.com/assets/colab-badge.svg\" alt=\"Open In Colab\"/></a>"
      ]
    },
    {
      "cell_type": "code",
      "execution_count": 2,
      "metadata": {
        "colab": {
          "base_uri": "https://localhost:8080/"
        },
        "id": "SaE30m85O7ah",
        "outputId": "86a8b57a-df3e-4003-c752-223f693170c6"
      },
      "outputs": [
        {
          "output_type": "stream",
          "name": "stdout",
          "text": [
            "--2024-10-07 09:13:13--  https://www.dropbox.com/scl/fi/ol8h3w2pvlip18v5pm82w/harpers_ASCII.txt?rlkey=zwy7se8o5mo8udbg35y5ala9x\n",
            "Resolving www.dropbox.com (www.dropbox.com)... 162.125.3.18, 2620:100:6018:18::a27d:312\n",
            "Connecting to www.dropbox.com (www.dropbox.com)|162.125.3.18|:443... connected.\n",
            "HTTP request sent, awaiting response... 302 Found\n",
            "Location: https://uc55f8dde375c319172d0e691690.dl.dropboxusercontent.com/cd/0/inline/Cb9T9M8-ID4kK-Z5VnKGJcHUg-z_Izco4ZL6G_VwYq3j1spu_aohIA6ZrCQTMVjHtkHDUv5imyKI4iT-0iZrfqKE6gH8MR0Ef6aa5ZHqcbGtOzOoN0bBBHyBM3iWv7k40Tzrw9IUPHox2XRITycecB7K/file# [following]\n",
            "--2024-10-07 09:13:14--  https://uc55f8dde375c319172d0e691690.dl.dropboxusercontent.com/cd/0/inline/Cb9T9M8-ID4kK-Z5VnKGJcHUg-z_Izco4ZL6G_VwYq3j1spu_aohIA6ZrCQTMVjHtkHDUv5imyKI4iT-0iZrfqKE6gH8MR0Ef6aa5ZHqcbGtOzOoN0bBBHyBM3iWv7k40Tzrw9IUPHox2XRITycecB7K/file\n",
            "Resolving uc55f8dde375c319172d0e691690.dl.dropboxusercontent.com (uc55f8dde375c319172d0e691690.dl.dropboxusercontent.com)... 162.125.3.15, 2620:100:6018:15::a27d:30f\n",
            "Connecting to uc55f8dde375c319172d0e691690.dl.dropboxusercontent.com (uc55f8dde375c319172d0e691690.dl.dropboxusercontent.com)|162.125.3.15|:443... connected.\n",
            "HTTP request sent, awaiting response... 200 OK\n",
            "Length: 173439 (169K) [text/plain]\n",
            "Saving to: ‘harpers_ASCII.txt?rlkey=zwy7se8o5mo8udbg35y5ala9x’\n",
            "\n",
            "harpers_ASCII.txt?r 100%[===================>] 169.37K  --.-KB/s    in 0.03s   \n",
            "\n",
            "2024-10-07 09:13:14 (4.93 MB/s) - ‘harpers_ASCII.txt?rlkey=zwy7se8o5mo8udbg35y5ala9x’ saved [173439/173439]\n",
            "\n"
          ]
        }
      ],
      "source": [
        "!wget https://www.dropbox.com/scl/fi/ol8h3w2pvlip18v5pm82w/harpers_ASCII.txt?rlkey=zwy7se8o5mo8udbg35y5ala9x&e=2"
      ]
    },
    {
      "cell_type": "code",
      "source": [
        "f = open(\"\"C:\\Users\\maith\\Downloads\\harpers_ASCII.txt\"\",\"r\")"
      ],
      "metadata": {
        "colab": {
          "base_uri": "https://localhost:8080/",
          "height": 158
        },
        "id": "j1pRMXZhQTjs",
        "outputId": "d2b5ed28-0124-4a61-9acc-dd9cce805de0"
      },
      "execution_count": 5,
      "outputs": [
        {
          "output_type": "error",
          "ename": "FileNotFoundError",
          "evalue": "[Errno 2] No such file or directory: '/content/harpers_ASCII.txt'",
          "traceback": [
            "\u001b[0;31m---------------------------------------------------------------------------\u001b[0m",
            "\u001b[0;31mFileNotFoundError\u001b[0m                         Traceback (most recent call last)",
            "\u001b[0;32m<ipython-input-5-1476b143be76>\u001b[0m in \u001b[0;36m<cell line: 1>\u001b[0;34m()\u001b[0m\n\u001b[0;32m----> 1\u001b[0;31m \u001b[0mf\u001b[0m\u001b[0;34m=\u001b[0m\u001b[0mopen\u001b[0m\u001b[0;34m(\u001b[0m\u001b[0;34m\"/content/harpers_ASCII.txt\"\u001b[0m\u001b[0;34m,\u001b[0m\u001b[0;34m\"r\"\u001b[0m\u001b[0;34m)\u001b[0m\u001b[0;34m\u001b[0m\u001b[0;34m\u001b[0m\u001b[0m\n\u001b[0m",
            "\u001b[0;31mFileNotFoundError\u001b[0m: [Errno 2] No such file or directory: '/content/harpers_ASCII.txt'"
          ]
        }
      ]
    }
  ]
}